{
 "cells": [
  {
   "cell_type": "code",
   "execution_count": 3,
   "id": "8c4d13bd-0df2-4a01-b057-e94acae8ec1f",
   "metadata": {},
   "outputs": [],
   "source": [
    "from pathlib import Path\n",
    "import pandas as pd\n",
    "\n",
    "file_path = Path(\"Resources\", \"budget_data.csv\")\n",
    "\n",
    "budget_df = pd.read_csv(file_path)"
   ]
  },
  {
   "cell_type": "code",
   "execution_count": 4,
   "id": "fa05745a-76a5-4de9-bd99-eb2548f626fc",
   "metadata": {},
   "outputs": [],
   "source": [
    "# Uses the 'len()' function to determine the total number of rows in the DataFrame, which is equal to the total number of months.\n",
    "\n",
    "total_months = len(budget_df)"
   ]
  },
  {
   "cell_type": "code",
   "execution_count": 5,
   "id": "b74465b3-0d44-4361-b4ab-9d640410fd17",
   "metadata": {},
   "outputs": [],
   "source": [
    "# Uses the sum function provided by the Pandas library. \n",
    "\n",
    "net_profit_loss = budget_df[\"Profit/Losses\"].sum()\n"
   ]
  },
  {
   "cell_type": "code",
   "execution_count": 6,
   "id": "a3838524-c5f7-4917-89b1-ce4aba03b22a",
   "metadata": {},
   "outputs": [],
   "source": [
    "# Implicitly creates a new column \"Change\" and adds calculated values to it.\n",
    "\n",
    "budget_df[\"Change\"] = budget_df[\"Profit/Losses\"].diff()"
   ]
  },
  {
   "cell_type": "code",
   "execution_count": 7,
   "id": "d8e13ab3-b723-418e-b5b8-8379f599cb9a",
   "metadata": {},
   "outputs": [],
   "source": [
    "# Creates the varable 'average_change' that uses the mean function on the new column 'Change'.\n",
    "\n",
    "average_change = budget_df[\"Change\"].mean()"
   ]
  },
  {
   "cell_type": "code",
   "execution_count": 8,
   "id": "e2f83d9b-3a5f-4edc-90d8-4c6268770e8c",
   "metadata": {},
   "outputs": [],
   "source": [
    "# Use of nested functions or functions within functions, especifically in this case chanining methods. '.loc', '.idxmax(), and 'idxmin()' are chained together to find the column 'Change' and determine maximum and minimum values.\n",
    "\n",
    "greatest_profit_change = budget_df.loc[budget_df[\"Change\"].idxmax()]\n",
    "min_profit_change = budget_df.loc[budget_df[\"Change\"].idxmin()]"
   ]
  },
  {
   "cell_type": "code",
   "execution_count": 9,
   "id": "295bf300-e8fb-4e10-8583-5a5397e8d763",
   "metadata": {},
   "outputs": [],
   "source": [
    "# Creates the variable 'output' that formats the calculations of all the variables to create a simple financial analysis report.\n",
    "output = (\n",
    "    f\"Financial Analysis\\n\"\n",
    "    f\"----------------------------\\n\"\n",
    "    f\"Total Months: {total_months}\\n\"\n",
    "    f\"Total: ${net_profit_loss}\\n\"\n",
    "    f\"Average Change: ${round(average_change, 2)}\\n\"  \n",
    "    f\"Greatest Increase in Profits: {greatest_profit_change['Date']} (${greatest_profit_change['Change']})\\n\"\n",
    "    f\"Greatest Decrease in Profits: {min_profit_change['Date']} (${min_profit_change['Change']})\\n\"\n",
    ")\n"
   ]
  },
  {
   "cell_type": "code",
   "execution_count": 10,
   "id": "b79e23e2-9d67-4a78-90b1-22237258c301",
   "metadata": {},
   "outputs": [
    {
     "name": "stdout",
     "output_type": "stream",
     "text": [
      "Financial Analysis\n",
      "----------------------------\n",
      "Total Months: 86\n",
      "Total: $38382578\n",
      "Average Change: $-2315.12\n",
      "Greatest Increase in Profits: Feb-2012 ($1926159.0)\n",
      "Greatest Decrease in Profits: Sep-2013 ($-2196167.0)\n",
      "\n"
     ]
    }
   ],
   "source": [
    "# Prints the report. \n",
    "print(output)"
   ]
  },
  {
   "cell_type": "code",
   "execution_count": 11,
   "id": "54a81725-0ae5-43eb-afe7-24fa4a84e8a7",
   "metadata": {},
   "outputs": [],
   "source": [
    "# Uses the 'write()' function to create a text file and write what is in the 'output' variable.\n",
    "with open(\"financial_analysis.txt\", \"w\") as text_file:\n",
    "    text_file.write(output)"
   ]
  },
  {
   "cell_type": "code",
   "execution_count": null,
   "id": "c996902c-48f8-41da-ad51-38e0bcbe92d4",
   "metadata": {},
   "outputs": [],
   "source": []
  }
 ],
 "metadata": {
  "kernelspec": {
   "display_name": "Python 3 (ipykernel)",
   "language": "python",
   "name": "python3"
  },
  "language_info": {
   "codemirror_mode": {
    "name": "ipython",
    "version": 3
   },
   "file_extension": ".py",
   "mimetype": "text/x-python",
   "name": "python",
   "nbconvert_exporter": "python",
   "pygments_lexer": "ipython3",
   "version": "3.11.7"
  }
 },
 "nbformat": 4,
 "nbformat_minor": 5
}
